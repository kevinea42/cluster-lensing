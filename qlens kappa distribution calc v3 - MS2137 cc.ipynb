{
 "cells": [
  {
   "cell_type": "code",
   "execution_count": 1,
   "metadata": {},
   "outputs": [],
   "source": [
    "# Gravitational Lensing Research\n",
    "# Program to take a qlens-generated sample chain, derive kappa vs. radius values. No plotting.\n",
    "# v3: Simultaneously calculate all matter, dark matter only, and baryons.\n",
    "# This version is for MS2137."
   ]
  },
  {
   "cell_type": "code",
   "execution_count": 2,
   "metadata": {},
   "outputs": [],
   "source": [
    "import time\n",
    "import matplotlib.pyplot as plt\n",
    "import sys\n",
    "import numpy as np\n",
    "import os\n",
    "import timeit\n",
    "from IPython.core.debugger import set_trace\n",
    "import datetime\n",
    "import concurrent.futures as cf\n",
    "import multiprocessing as mp\n",
    "import copy"
   ]
  },
  {
   "cell_type": "code",
   "execution_count": 3,
   "metadata": {},
   "outputs": [],
   "source": [
    "# set the radii values, in arc seconds, log spaced. NOTE THAT THESE MUST MATCH SCRIPT BELOW\n",
    "rstart = .1\n",
    "rstop  = 50\n",
    "nr = 50\n",
    "radii = np.logspace(np.log10(rstart), np.log10(rstop), nr, endpoint=False)"
   ]
  },
  {
   "cell_type": "code",
   "execution_count": 4,
   "metadata": {},
   "outputs": [],
   "source": [
    "# for parallel processing\n",
    "nproc = 1"
   ]
  },
  {
   "cell_type": "code",
   "execution_count": 5,
   "metadata": {},
   "outputs": [],
   "source": [
    "name = 'MS2137'\n",
    "suffix = '.cc.v13'\n",
    "label = name + suffix\n",
    "# Set your path here, to the \"chains_...\" directory of interest\n",
    "#path = '/home/grant/Documents/qlens-beta/' + name + '/chains_' + label\n",
    "# path = '/home/kea/KEVIN/UCI/Research/gravlensing/' + name + '/chains_' + label\n",
    "path = '/Users/kevin/CloudStation/KEVIN/UCI/Research/gravlensing/' + name + '/chains_' + label"
   ]
  },
  {
   "cell_type": "code",
   "execution_count": 6,
   "metadata": {},
   "outputs": [],
   "source": [
    "# now calculated the median and +/- 1-sigma values\n",
    "def find_bands(p, samples):\n",
    "    total = [np.sum(samples[:, i + p] * samples[:, 0]) for i in range(nr)]\n",
    "    sigma_minus  = np.zeros(nr)\n",
    "    sigma_plus = np.zeros(nr)\n",
    "    median = np.zeros(nr)\n",
    "    for i in range(nr):\n",
    "        runsum = 0.\n",
    "        sm_flag = sp_flag = m_flag = False\n",
    "        # sort the table by increasing kappa for the radius in question\n",
    "        samsort =  samples[samples[:, i + p].argsort()]\n",
    "        for row in range(len(samsort)):\n",
    "            runsum += (samsort[row, 0] * samsort[row, i + p]) / total[i]\n",
    "            if (not sm_flag) and (runsum > 0.158):\n",
    "                sm_flag = True\n",
    "                sigma_minus[i] = samsort[row, i + p]\n",
    "            if (not sp_flag) and (runsum > 0.841):\n",
    "                sp_flag = True\n",
    "                sigma_plus[i] = samsort[row, i + p] \n",
    "            if (not m_flag) and (runsum > 0.5):\n",
    "                m_flag = True\n",
    "                median[i] = samsort[row, i + p]\n",
    "    return sigma_minus, sigma_plus, median"
   ]
  },
  {
   "cell_type": "code",
   "execution_count": 7,
   "metadata": {},
   "outputs": [],
   "source": [
    "def ql_script3(i, p, params, tstart, ns):\n",
    "    # assembles and runs the QLens script, returning three vectors of kappa values\n",
    "    # Note that the first and pth columns are not parameters.\n",
    "    # the pth column is the chi square.\n",
    "    #like,  mvir, c, rc_kpc, q, theta, xc, yc, shear1, shear2, mtot1, mtot2, raw_chisq, chisq = params[0:p] \n",
    "    \n",
    "    like, k0, gamma, a, s, q, theta, xc, yc, shear1, shear2, mtot1, mtot2, raw_chisq, chisq = params[0:p]\n",
    "    n = 3\n",
    "    pars0 = ' '.join([str(item) for item in [k0, gamma, n, a, s, q, theta, xc, yc]]) # Halo parameters\n",
    "    \n",
    "    pars1 = ' '.join([str(item) for item in [shear1, shear2]]) # Shear parameters\n",
    "\n",
    "    pars2 = ' '.join([str(item) for item in [mtot1, 15.0, 0.3, 0.92, -17.5, 0, 0]]) # BCG parameters\n",
    "\n",
    "    pars3 = ' '.join([str(item) for item in [mtot2, 3.84, 0.3, 0.465, -52.12, -9.2, 14.0]]) # GR parameters\n",
    "\n",
    "    kappaname = 'plotdata/kappadist_temp_' + str(mp.current_process().name) + '.tmp'\n",
    "    kappaname_dmo = 'plotdata/kappadist_temp_' + str(mp.current_process().name) + '.dmo.tmp'\n",
    "\n",
    "    script_part_a1 = '''\n",
    "    # skeleton script to load bestfit results\n",
    "    zlens=0.314     # REVIEW\n",
    "    zsrc=2.0\n",
    "    zsrc_ref=2.0\n",
    "    fit method multinest\n",
    "    shear_components on\n",
    "    major_axis_along_y off    \n",
    "    central_image on  # REVIEW\n",
    "    galsubgrid on\n",
    "    n_livepts = 4000 \n",
    "    chisqmag on \n",
    "    chisqtol 1e-6 \n",
    "    chisq_time_delays off \n",
    "    analytic_bestfit_src on\t\n",
    "    imgplane_chisq off\n",
    "    sci_notation off\n",
    "    chisq_imgsep_threshold = 1e-3  \n",
    "    nimg_penalty off                 \n",
    "    chisq_mag_threshold = 0.1  \n",
    "    analytic_bestfit_src on\t\n",
    "    # gridtype cartesian\n",
    "    # grid -70 65 -45 55\n",
    "    imgdata read ../MS2137_SL_Data_V4.dat   #REVIEW\n",
    "    '''\n",
    "\n",
    "    script_part_a2 = '''\n",
    "    lens clear\n",
    "    lens corecusp '''\n",
    "    # here we insert the parameters for the first lens (halo)\n",
    "\n",
    "    script_part_b1 =''' shear='''\n",
    "    # here we insert the paramters for the shear\n",
    "    \n",
    "    script_part_b2 ='''\n",
    "    lens pjaffe pmode=2 '''\n",
    "    # here we insert the parameters for the second lens (BCG)\n",
    "\n",
    "    script_part_b3 ='''\n",
    "    lens pjaffe pmode=2 '''\n",
    "    # here we insert the params for anchor galaxy, assuming there is one. If not, comment out \"lens pjaffe pmode=2\"\n",
    "\n",
    "    script_part_c = '''\n",
    "    # no other perturbers for this one. \n",
    "    '''\n",
    "    # Other perturbers, if any, can go in part c above.\n",
    "    \n",
    "    script_part_d = '''\n",
    "    plotkappa ''' + str(rstart) + ' ' + str(rstop) + ' ' + str(nr) + ' '\n",
    "\n",
    "    \n",
    "    script = script_part_a1 + script_part_a2 + pars0 + script_part_b1 + pars1\\\n",
    "        + script_part_b2 + pars2 + script_part_b3 + pars3  \\\n",
    "        + script_part_c + script_part_d + kappaname + ' \\n' \\\n",
    "        + script_part_d + kappaname_dmo + ' lens=0\\n'\n",
    "    sc_name = 'plotdata/kappascript_' + str(mp.current_process().name) + '.in'\n",
    "\n",
    "    with open(sc_name, 'w') as outfile:\n",
    "        outfile.write(script)\n",
    "\n",
    "    # Now, run the script\n",
    "    os.system('qlens ' + sc_name + ' -q')\n",
    "    # read in kappa file back in, and store results\n",
    "    kdat = np.loadtxt(kappaname)\n",
    "    kappa = kdat[:, 1]\n",
    "    kdat_dmo = np.loadtxt(kappaname_dmo)\n",
    "    kappa_dmo = kdat_dmo[:, 1]\n",
    "    kappa_bary = kappa - kappa_dmo\n",
    "    if i==0:\n",
    "        rad = kdat[:, 0]\n",
    "        assert np.all(np.abs((rad - radii) / radii) < .001)\n",
    "    if i%50 == 1:\n",
    "        tavg = (timeit.default_timer() - tstart) / (i+1.)\n",
    "        proj_fin =  tavg * (ns -i -1)\n",
    "        sys.stdout.write(\"\\r{0:5.2%} complete. Avg time per iteration: {1:8.6f} sec. Projected finish in {2:4.2f} min. \"\\\n",
    "                   .format((float(i) / ns), tavg,  proj_fin/60))\n",
    "    sys.stdout.flush() # required in multiprocessing or else it buffers this output\n",
    "    return kappa, kappa_dmo, kappa_bary"
   ]
  },
  {
   "cell_type": "code",
   "execution_count": 8,
   "metadata": {},
   "outputs": [],
   "source": [
    "# Function to load chain, create the script, run it, find the bands, and return the new samples and bands.\n",
    "def do_script(label, path, dmo= False): # the path should be the /chains_... directory\n",
    "    os.chdir(path)\n",
    "    print(os.getcwd())\n",
    "    # Import the chain\n",
    "    samples = np.loadtxt(path + '/' + label, comments=\"#\", delimiter=None, unpack=False)\n",
    "    with open(path + '/' + label + '.paramnames') as afile:\n",
    "        paramnames = afile.readlines()\n",
    "    paramnames = [item[:-1] for item in paramnames]  # Strip off the \\n character.\n",
    "    samples = np.array(samples)\n",
    "    ns, p = samples.shape\n",
    "    print(samples.shape)\n",
    "    print(paramnames)\n",
    "\n",
    "    # extend the samples to have nr additional columns\n",
    "    samples2 = np.append(samples, np.zeros((ns, nr)), axis=1)\n",
    "    samples2.shape\n",
    "    # delete all samples with zero weight\n",
    "    mask = [False if sam[0]==0. else True for sam in samples2]\n",
    "    samples2 = samples2[mask]\n",
    "    print(samples2.shape)\n",
    "    ns = samples2.shape[0]\n",
    "    sort = samples2[samples2[:,0].argsort()]  # This sorts the samples in ascending order, based on weight (first col.)\n",
    " \n",
    "    # Make duplicates for the dark matter only and baryons samples.\n",
    "    samples2_dmo = copy.deepcopy(samples2)\n",
    "    samples2_bary = copy.deepcopy(samples2)\n",
    "    \n",
    "    # make sure there is a directory called plotdata. If not, create it.\n",
    "    if not os.path.exists(os.getcwd()+'/plotdata'):\n",
    "        os.makedirs(os.getcwd()+'/plotdata')\n",
    "    \n",
    "    results = []\n",
    "    tstart = timeit.default_timer()\n",
    "    with cf.ProcessPoolExecutor(nproc) as pp:\n",
    "        for i, params in enumerate(samples2[:, 0:p]):\n",
    "            results.append((i, pp.submit(ql_script3, i, p, params, tstart, ns)))\n",
    "\n",
    "    # code waits here until all processes are finished\n",
    "    sys.stdout.write('\\r                                                                                      ')\n",
    "    print(\"\\nKappa calculation completed in \", np.round((timeit.default_timer() - tstart) / 60, 2), \" minutes.\")\n",
    "    \n",
    "    old_i = -1\n",
    "    for (i,k) in results:\n",
    "        samples2[i, p:], samples2_dmo[i, p:], samples2_bary[i, p:] = k.result()\n",
    "        if old_i +1 != i:\n",
    "            print('WARNING: Out of order at i=', i)\n",
    "        old_i = i\n",
    "      \n",
    "    sm, sp, med = find_bands(p, samples2)\n",
    "    sm_dmo, sp_dmo, med_dmo = find_bands(p, samples2_dmo)\n",
    "    sm_bary, sp_bary, med_bary = find_bands(p, samples2_bary)\n",
    "    return sm, sp, med, sm_dmo, sp_dmo, med_dmo, sm_bary, sp_bary, med_bary\n",
    "    "
   ]
  },
  {
   "cell_type": "code",
   "execution_count": 9,
   "metadata": {},
   "outputs": [
    {
     "name": "stdout",
     "output_type": "stream",
     "text": [
      "/Users/kevin/CloudStation/KEVIN/UCI/Research/gravlensing/MS2137/chains_MS2137.cc.v13\n",
      "(111174, 15)\n",
      "['k0', 'gamma', 'a', 's', 'q', 'theta', 'xc', 'yc', 'shear1', 'shear2', 'mtot1', 'mtot2', 'raw_chisq']\n",
      "(111174, 65)\n",
      "                                                                                      \n",
      "Kappa calculation completed in  108.0  minutes.\n"
     ]
    }
   ],
   "source": [
    "sm, sp, med, sm_dmo, sp_dmo, med_dmo, sm_bary, sp_bary, med_bary = do_script(label, path)"
   ]
  },
  {
   "cell_type": "code",
   "execution_count": 10,
   "metadata": {},
   "outputs": [
    {
     "name": "stdout",
     "output_type": "stream",
     "text": [
      "Results saved to bands file.\n"
     ]
    }
   ],
   "source": [
    "np.savez(label + '.all.bands', radii, sm, sp, med)\n",
    "np.savez(label + '.dmo.bands', radii, sm_dmo, sp_dmo, med_dmo)\n",
    "np.savez(label + '.bary.bands', radii, sm_bary, sp_bary, med_bary)\n",
    "print('Results saved to bands file.')  "
   ]
  },
  {
   "cell_type": "code",
   "execution_count": 11,
   "metadata": {},
   "outputs": [],
   "source": [
    "# Use Notebook \"Kappa band plotter v2\" to plot the results."
   ]
  }
 ],
 "metadata": {
  "anaconda-cloud": {},
  "kernelspec": {
   "display_name": "Python [conda env:py36]",
   "language": "python",
   "name": "conda-env-py36-py"
  },
  "language_info": {
   "codemirror_mode": {
    "name": "ipython",
    "version": 3
   },
   "file_extension": ".py",
   "mimetype": "text/x-python",
   "name": "python",
   "nbconvert_exporter": "python",
   "pygments_lexer": "ipython3",
   "version": "3.6.7"
  }
 },
 "nbformat": 4,
 "nbformat_minor": 1
}
