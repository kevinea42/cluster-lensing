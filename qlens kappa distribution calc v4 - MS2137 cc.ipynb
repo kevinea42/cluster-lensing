{
 "cells": [
  {
   "cell_type": "code",
   "execution_count": 1,
   "metadata": {},
   "outputs": [],
   "source": [
    "# Gravitational Lensing Research\n",
    "# Program to take a qlens-generated sample chain, derive kappa vs. radius values. No plotting.\n",
    "# v4: Simultaneously calculate all matter, dark matter only, and baryons.\n",
    "# Switching to kpc rather than arc seconds.\n",
    "# Also calculate the mass enclosed versus radius.\n",
    "# Also calculate the radius containing 1% of the M200 mass\n",
    "# Saves the equal weighted chain.\n",
    "# This version is for MS2137."
   ]
  },
  {
   "cell_type": "code",
   "execution_count": 2,
   "metadata": {},
   "outputs": [],
   "source": [
    "import time\n",
    "import matplotlib.pyplot as plt\n",
    "import sys\n",
    "import numpy as np\n",
    "import os\n",
    "import timeit\n",
    "from IPython.core.debugger import set_trace\n",
    "import datetime\n",
    "import concurrent.futures as cf\n",
    "import multiprocessing as mp\n",
    "import copy\n",
    "from scipy import interpolate\n",
    "from scipy.optimize import minimize_scalar\n",
    "import pandas as pd\n",
    "from astropy.cosmology import FlatLambdaCDM\n",
    "import astropy.units as u\n",
    "from astropy import constants as const"
   ]
  },
  {
   "cell_type": "code",
   "execution_count": 3,
   "metadata": {},
   "outputs": [],
   "source": [
    "# for parallel processing\n",
    "nproc = 1"
   ]
  },
  {
   "cell_type": "markdown",
   "metadata": {},
   "source": [
    "##  Changing the output radii values to kpc. Make sure redshift is correct."
   ]
  },
  {
   "cell_type": "code",
   "execution_count": 4,
   "metadata": {},
   "outputs": [],
   "source": [
    "# Names:    A611, A2537, RXCJ2248, MS2137, A383, A2261, M2129, A1703,  M1720\n",
    "# Reshifts:  0.288, 0.294, 0.348, 0.314, 0.189, 0.225, 0.589, 0.280, 0.387"
   ]
  },
  {
   "cell_type": "code",
   "execution_count": 5,
   "metadata": {},
   "outputs": [],
   "source": [
    "zlens = 0.314"
   ]
  },
  {
   "cell_type": "code",
   "execution_count": 6,
   "metadata": {},
   "outputs": [
    {
     "name": "stdout",
     "output_type": "stream",
     "text": [
      "/Users/kevin/CloudStation/KEVIN/UCI/Research/gravlensing/MS2137/chains_MS2137.cc.v13\n"
     ]
    }
   ],
   "source": [
    "name = 'MS2137'\n",
    "suffix = '.cc.v13'\n",
    "label = name + suffix\n",
    "# Set your path here, to the \"chains_...\" directory of interest\n",
    "#path = '/home/grant/Documents/qlens-beta/' + name + '/chains_' + label\n",
    "# path = '/home/kea/KEVIN/UCI/Research/gravlensing/' + name + '/chains_' + label\n",
    "path = '/Users/kevin/CloudStation/KEVIN/UCI/Research/gravlensing/' + name + '/chains_' + label\n",
    "os.chdir(path)\n",
    "print(os.getcwd())"
   ]
  },
  {
   "cell_type": "code",
   "execution_count": 7,
   "metadata": {},
   "outputs": [
    {
     "name": "stdout",
     "output_type": "stream",
     "text": [
      "FlatLambdaCDM(H0=70 km / (Mpc s), Om0=0.3, Tcmb0=0 K, Neff=3.04, m_nu=None, Ob0=None)\n",
      "187.75514641549648 solMass / kpc3\n",
      "4.595866036964907 kpc / arcsec\n",
      "rho_200 =  3645221.5492632464 solMass / arcsec3\n"
     ]
    }
   ],
   "source": [
    "\n",
    "cosmo = FlatLambdaCDM(H0=70 * u.km / u.s /u.Mpc, Om0=0.3)\n",
    "print(cosmo)\n",
    "rho_crit = cosmo.critical_density(zlens).to(u.M_sun / u.kpc**3)\n",
    "print(rho_crit)\n",
    "kpc_per_arcsec = cosmo.kpc_proper_per_arcmin(zlens) * u.arcmin / (60. * u.arcsec)\n",
    "print (kpc_per_arcsec)\n",
    "rho_200 = rho_crit * 200 * kpc_per_arcsec**3  # units of M_sun arcsec^-3\n",
    "print('rho_200 = ', rho_200)\n",
    "# get rid of units now\n",
    "kpc_per_arcsec = kpc_per_arcsec.value\n",
    "rho_200 = rho_200.value"
   ]
  },
  {
   "cell_type": "code",
   "execution_count": 8,
   "metadata": {},
   "outputs": [
    {
     "name": "stdout",
     "output_type": "stream",
     "text": [
      "2309594836.688701 solMass / kpc2\n"
     ]
    }
   ],
   "source": [
    "# Calculate Sigma_crit, assuming a source redshift of 2.0.\n",
    "sigma_crit = (const.c**2 * cosmo.angular_diameter_distance(2.0) / (4. * np.pi * const.G *\\\n",
    "                           cosmo.angular_diameter_distance(zlens) * cosmo.angular_diameter_distance_z1z2(zlens, 2.0))\\\n",
    "             ).to(u.M_sun / u.kpc**2)\n",
    "print(sigma_crit)   \n",
    "# get rid of units now\n",
    "sigma_crit = sigma_crit.value"
   ]
  },
  {
   "cell_type": "code",
   "execution_count": 9,
   "metadata": {},
   "outputs": [
    {
     "name": "stdout",
     "output_type": "stream",
     "text": [
      "Covers radii of 0.54 arcsec to 76.16 arcsec.\n"
     ]
    }
   ],
   "source": [
    "# radii values, in KPC, log spaced. Don't change.\n",
    "rstart = 2.5\n",
    "rstop  = 397.28\n",
    "nr = 40\n",
    "radii_kpc = np.logspace(np.log10(rstart), np.log10(rstop), nr, endpoint=False)\n",
    "radii_as = [np.round(r / kpc_per_arcsec, 2) for r in radii_kpc]\n",
    "radii_kpc = np.round(radii_kpc, 2)\n",
    "\n",
    "print(f'Covers radii of {radii_as[0]} arcsec to {radii_as[-1]} arcsec.')"
   ]
  },
  {
   "cell_type": "code",
   "execution_count": 10,
   "metadata": {},
   "outputs": [],
   "source": [
    "# now calculated the median and +/- 1-sigma values, accounting for sample weights.\n",
    "def find_bands(p, samples, n_rad, weighted=True):\n",
    "    # 'p' is the offset of the first column to sort by.\n",
    "    # 'n_rad' is the number of columns to sort.\n",
    "    # The first column is the weight, unless weighted=False.\n",
    "    if not weighted:\n",
    "        p += 1\n",
    "        samples = np.hstack((np.ones((samples.shape[0], 1)), samples))\n",
    "    total = [np.sum(samples[:, i + p] * samples[:, 0]) for i in range(n_rad)]\n",
    "    sigma_minus  = np.zeros(n_rad)\n",
    "    sigma_plus = np.zeros(n_rad)\n",
    "    median = np.zeros(n_rad)\n",
    "    for i in range(n_rad):\n",
    "        runsum = 0.\n",
    "        sm_flag = sp_flag = m_flag = False\n",
    "        # sort the table by increasing kappa for the radius in question\n",
    "        samsort =  samples[samples[:, i + p].argsort()]\n",
    "        for row in range(len(samsort)):\n",
    "            runsum += (samsort[row, 0] * samsort[row, i + p]) / total[i]\n",
    "            if (not sm_flag) and (runsum > 0.158):\n",
    "                sm_flag = True\n",
    "                sigma_minus[i] = samsort[row, i + p]\n",
    "            if (not sp_flag) and (runsum > 0.841):\n",
    "                sp_flag = True\n",
    "                sigma_plus[i] = samsort[row, i + p] \n",
    "            if (not m_flag) and (runsum > 0.5):\n",
    "                m_flag = True\n",
    "                median[i] = samsort[row, i + p]\n",
    "    return sigma_minus, sigma_plus, median"
   ]
  },
  {
   "cell_type": "code",
   "execution_count": 11,
   "metadata": {},
   "outputs": [],
   "source": [
    "def ql_script4(i, p, params, tstart, ns):\n",
    "    # assembles and runs the QLens script, returning three vectors of kappa values\n",
    "    # Note that the first and pth columns are not parameters.\n",
    "    # the pth column is the chi square.\n",
    "    # Note that \"like\" is no longer on this list; equal weighted samples. \n",
    "    \n",
    "    k0, gamma, a, s, q, theta, xc, yc, shear1, shear2, mtot1, mtot2, raw_chisq, chisq = params[0:p]\n",
    "    n = 3\n",
    "    pars0 = ' '.join([str(item) for item in [k0, gamma, n, a, s, q, theta, xc, yc]]) # Halo parameters\n",
    "    \n",
    "    pars1 = ' '.join([str(item) for item in [shear1, shear2]]) # Shear parameters\n",
    "\n",
    "    pars2 = ' '.join([str(item) for item in [mtot1, 15.0, 0.3, 0.92, -17.5, 0, 0]]) # BCG parameters\n",
    "\n",
    "    pars3 = ' '.join([str(item) for item in [mtot2, 3.84, 0.3, 0.465, -52.12, -9.2, 14.0]]) # GR parameters\n",
    "\n",
    "    kappaname = 'plotdata/kappadist_temp_' + str(mp.current_process().name) + '.tmp'\n",
    "    kappaname_dmo = 'plotdata/kappadist_temp_' + str(mp.current_process().name) + '.dmo.tmp'\n",
    "\n",
    "    script_part_a1 = '''\n",
    "    # skeleton script to load bestfit results\n",
    "    zlens=0.314     # REVIEW\n",
    "    zsrc=2.0\n",
    "    zsrc_ref=2.0\n",
    "\n",
    "    shear_components on\n",
    "    major_axis_along_y off    \n",
    "\n",
    "    chisqmag on \n",
    "    chisqtol 1e-6 \n",
    "    chisq_time_delays off \n",
    "\n",
    "    sci_notation off\n",
    "\n",
    "    imgdata read ../MS2137_SL_Data_V4.dat   #REVIEW\n",
    "    '''\n",
    "\n",
    "    script_part_a2 = '''\n",
    "    lens clear\n",
    "    lens corecusp '''\n",
    "    # here we insert the parameters for the first lens (halo)\n",
    "\n",
    "    script_part_b1 =''' shear='''\n",
    "    # here we insert the paramters for the shear\n",
    "    \n",
    "    script_part_b2 ='''\n",
    "    lens pjaffe pmode=2 '''\n",
    "    # here we insert the parameters for the second lens (BCG)\n",
    "\n",
    "    script_part_b3 ='''\n",
    "    lens pjaffe pmode=2 '''\n",
    "    # here we insert the params for anchor galaxy, assuming there is one. If not, comment out \"lens pjaffe pmode=2\"\n",
    "\n",
    "    script_part_c = '''\n",
    "    # no other perturbers for this one. \n",
    "    '''\n",
    "    # Other perturbers, if any, can go in part c above.\n",
    "    \n",
    "    script_part_d = '''\n",
    "    plotkappa ''' + str(rstart / kpc_per_arcsec) + ' ' + str(rstop / kpc_per_arcsec)\\\n",
    "    + ' ' + str(nr) + ' '\n",
    "\n",
    "    script_part_e = '''\n",
    "    cosmology\n",
    "    '''\n",
    "    \n",
    "    script = script_part_a1 + script_part_a2 + pars0 + script_part_b1 + pars1\\\n",
    "        + script_part_b2 + pars2 + script_part_b3 + pars3  \\\n",
    "        + script_part_c + script_part_d + kappaname + ' \\n' \\\n",
    "        + script_part_d + kappaname_dmo + ' lens=0\\n' \\\n",
    "        + script_part_e\n",
    "    sc_name = 'plotdata/kappascript_' + str(mp.current_process().name) + '.in'\n",
    "    \n",
    "    # double check redshift\n",
    "    rs_pos = script.find('zlens=')\n",
    "    if rs_pos == -1:\n",
    "        print(\"Can't locate 'zlens=' in script.\")\n",
    "        sys.exit()    \n",
    "    eol = script.find('# REVIEW', rs_pos)\n",
    "    assert float(script[rs_pos + 6: eol]) == zlens\n",
    "    \n",
    "    with open(sc_name, 'w') as outfile:\n",
    "        outfile.write(script)\n",
    "\n",
    "    # Now, run the script, saving the output in a temporary file\n",
    "    os.system('qlens ' + sc_name + ' -q | tee plotdata/scriptout' + str(mp.current_process().name) + '.tmp')\n",
    "    \n",
    "    # read back the cosmology and determine the r_200 of lens 0\n",
    "    with open('plotdata/scriptout' + str(mp.current_process().name) + '.tmp', 'r') as outf:\n",
    "        output = ''.join(outf.readlines())\n",
    "    cos_pos = output.find('cosmology')\n",
    "    lens0_pos = output.find('Lens 0:', cos_pos)\n",
    "    r200_pos = output.find('r_200 = ', lens0_pos)\n",
    "    kpc_pos = output.find('kpc', r200_pos)\n",
    "    r200 = np.float(output[r200_pos + 7 : kpc_pos])\n",
    "    m200 = 4. * np.pi / 3. * r200**3 * rho_200 / kpc_per_arcsec**3 \n",
    "    \n",
    "    # read in kappa file back in, and store results\n",
    "    kdat = np.loadtxt(kappaname)\n",
    "    kappa = kdat[:, 1]\n",
    "    kdat_dmo = np.loadtxt(kappaname_dmo)\n",
    "    kappa_dmo = kdat_dmo[:, 1]\n",
    "    encl_mass = kdat_dmo[:, 4]\n",
    "    # The above assumes that the QLens data is in M_sun.\n",
    "    kappa_bary = kappa - kappa_dmo\n",
    "    \n",
    "    # Calculate the radius containing 1% of m200:\n",
    "    f_encl = interpolate.interp1d(radii_kpc, encl_mass, fill_value='extrapolate')\n",
    "    r_1_res = minimize_scalar(lambda r: np.abs(f_encl(r) - 0.01 * m200))\n",
    "    if r_1_res.success != True:\n",
    "        set_trace()\n",
    "    r_1pct = r_1_res.x\n",
    "    if r_1pct <0. or r_1pct > 4000.:\n",
    "        set_trace()\n",
    "    \n",
    "    if i==0:\n",
    "        assert np.all(np.abs((kdat[:, 0] * kpc_per_arcsec - radii_kpc) / radii_kpc) \\\n",
    "                      < .01)\n",
    "    if i%50 == 1:\n",
    "        tavg = (timeit.default_timer() - tstart) / (i+1.)\n",
    "        proj_fin =  tavg * (ns -i -1)\n",
    "        sys.stdout.write(\"\\r{0:5.2%} complete. Avg time per iteration: {1:8.6f} sec. Projected finish in {2:4.2f} min. \"\\\n",
    "                   .format((float(i) / ns), tavg,  proj_fin/60))\n",
    "    sys.stdout.flush() # required in multiprocessing or else it buffers this output\n",
    "    return kappa, kappa_dmo, kappa_bary, encl_mass, r_1pct"
   ]
  },
  {
   "cell_type": "code",
   "execution_count": 12,
   "metadata": {},
   "outputs": [],
   "source": [
    "# Now doing this calculation not in a function.\n",
    "# Import the chain. This is the EQUAL weighted chain.\n",
    "samples = np.loadtxt(path + '/' + label + 'post_equal_weights.dat', comments=\"#\", delimiter=None, unpack=False)\n",
    "with open(path + '/' + label + '.paramnames') as afile:\n",
    "    paramnames = afile.readlines()\n",
    "paramnames = [item[:-1] for item in paramnames]  # Strip off the \\n character.\n",
    "samples = np.array(samples)"
   ]
  },
  {
   "cell_type": "code",
   "execution_count": 13,
   "metadata": {},
   "outputs": [],
   "source": [
    "# Load the ranges, and scale the parameters.\n",
    "ranges = np.loadtxt(path + '/' + label + '.ranges', comments=\"#\", delimiter=None, unpack=False)\n",
    "for i, (lwr, upr) in enumerate(ranges):  # All columns but the last one in samples.\n",
    "    if upr != 1.e30:\n",
    "        samples[:, i] = samples[:, i] * (upr - lwr) + lwr"
   ]
  },
  {
   "cell_type": "code",
   "execution_count": 14,
   "metadata": {},
   "outputs": [
    {
     "name": "stdout",
     "output_type": "stream",
     "text": [
      "(50367, 14)\n",
      "Median parameter values: \n",
      "['k0: 1.031', 'gamma: 1.481', 'a: 38.33', 's: 1.382', 'q: 0.7391', 'theta: -35.38', 'xc: 0.01344', 'yc: 0.08041', 'shear1: -0.005945', 'shear2: -0.01515', 'mtot1: 6.793e+11', 'mtot2: 1.083e+11', 'raw_chisq: 37.84']\n"
     ]
    }
   ],
   "source": [
    "ns, p = samples.shape\n",
    "print(samples.shape)\n",
    "print('Median parameter values: ')\n",
    "print([f'{pn}: {mv:.4g}' for (pn, mv) in zip(paramnames, [np.median(i) for i in samples.T])])\n",
    "\n",
    "chain_columns = paramnames + ['loglike']\n",
    "\n",
    "# for testing only:\n",
    "# ns = 50\n",
    "# samples = samples[-ns:]"
   ]
  },
  {
   "cell_type": "code",
   "execution_count": 15,
   "metadata": {},
   "outputs": [
    {
     "name": "stdout",
     "output_type": "stream",
     "text": [
      "                                                                                      \n",
      "Kappa calculation completed in  40.19  minutes.\n"
     ]
    }
   ],
   "source": [
    "# make sure there is a directory called plotdata. If not, create it.\n",
    "if not os.path.exists(os.getcwd()+'/plotdata'):\n",
    "    os.makedirs(os.getcwd()+'/plotdata')\n",
    "\n",
    "results = []\n",
    "tstart = timeit.default_timer()\n",
    "with cf.ProcessPoolExecutor(nproc) as pp:\n",
    "    for i, params in enumerate(samples[:, 0:p]):\n",
    "        results.append((i, pp.submit(ql_script4, i, p, params, tstart, ns)))\n",
    "\n",
    "# code waits here until all processes are finished\n",
    "sys.stdout.write('\\r                                                                                      ')\n",
    "print(\"\\nKappa calculation completed in \", np.round((timeit.default_timer() - tstart) / 60, 2), \" minutes.\")"
   ]
  },
  {
   "cell_type": "code",
   "execution_count": 16,
   "metadata": {},
   "outputs": [
    {
     "name": "stdout",
     "output_type": "stream",
     "text": [
      "Updating data array...\n",
      "Data updated.\n"
     ]
    }
   ],
   "source": [
    "all_names = ['all_%07.2f' % rad for rad in radii_kpc]\n",
    "dm_names = ['dm_%07.2f' % rad for rad in radii_kpc]\n",
    "bary_names = ['bary_%07.2f' % rad for rad in radii_kpc]\n",
    "m_names = ['m_encl_%07.2f' % rad for rad in radii_kpc]\n",
    "col_names = all_names + dm_names + bary_names + m_names + ['r_1pct']\n",
    "\n",
    "# Use a numpy array for holding everything. DataFrames are too slow.\n",
    "samples2 = np.append(samples, np.full((ns, nr * 4 + 1), np.nan), axis=1)\n",
    "\n",
    "old_i = -1\n",
    "print('Updating data array...')\n",
    "for (i,k) in results:\n",
    "    k_all, k_dm, k_bary, m_encl, r_1= k.result()\n",
    "    reslist = list(k_all) + list(k_dm) + list(k_bary) + list(m_encl)+ [r_1]\n",
    "    samples2[i, p:] = reslist\n",
    "    if old_i +1 != i:\n",
    "        print('WARNING: Out of order at i=', i)\n",
    "    old_i = i\n",
    "print('Data updated.')"
   ]
  },
  {
   "cell_type": "code",
   "execution_count": 17,
   "metadata": {},
   "outputs": [
    {
     "name": "stdout",
     "output_type": "stream",
     "text": [
      "Making bands...\n",
      "Bands made.\n"
     ]
    }
   ],
   "source": [
    "print('Making bands...')\n",
    "sm, sp, med = find_bands(0, samples2[:, p: p + nr], nr, weighted=False)\n",
    "sm_dmo, sp_dmo, med_dmo = find_bands(0, samples2[:, p + nr: p + nr * 2], nr, weighted=False)\n",
    "sm_bary, sp_bary, med_bary = find_bands(0, samples2[:, p + nr * 2: p + nr *3], nr, weighted=False)\n",
    "sm_mencl, sp_mencl, med_mencl = find_bands(0, samples2[:, p + nr * 3: p + nr * 4], nr, weighted=False)\n",
    "sm_r1, sp_r1, med_r1 = find_bands(0, samples2[:, p + nr * 4: p + nr * 4 + 1], 1, weighted=False)\n",
    "print(\"Bands made.\")"
   ]
  },
  {
   "cell_type": "code",
   "execution_count": 18,
   "metadata": {},
   "outputs": [
    {
     "data": {
      "text/html": [
       "<div>\n",
       "<style scoped>\n",
       "    .dataframe tbody tr th:only-of-type {\n",
       "        vertical-align: middle;\n",
       "    }\n",
       "\n",
       "    .dataframe tbody tr th {\n",
       "        vertical-align: top;\n",
       "    }\n",
       "\n",
       "    .dataframe thead th {\n",
       "        text-align: right;\n",
       "    }\n",
       "</style>\n",
       "<table border=\"1\" class=\"dataframe\">\n",
       "  <thead>\n",
       "    <tr style=\"text-align: right;\">\n",
       "      <th></th>\n",
       "      <th>k0</th>\n",
       "      <th>gamma</th>\n",
       "      <th>a</th>\n",
       "      <th>s</th>\n",
       "      <th>q</th>\n",
       "      <th>theta</th>\n",
       "      <th>xc</th>\n",
       "      <th>yc</th>\n",
       "      <th>shear1</th>\n",
       "      <th>shear2</th>\n",
       "      <th>...</th>\n",
       "      <th>m_encl_0127.01</th>\n",
       "      <th>m_encl_0144.17</th>\n",
       "      <th>m_encl_0163.64</th>\n",
       "      <th>m_encl_0185.75</th>\n",
       "      <th>m_encl_0210.84</th>\n",
       "      <th>m_encl_0239.32</th>\n",
       "      <th>m_encl_0271.65</th>\n",
       "      <th>m_encl_0308.35</th>\n",
       "      <th>m_encl_0350.00</th>\n",
       "      <th>r_1pct</th>\n",
       "    </tr>\n",
       "  </thead>\n",
       "  <tbody>\n",
       "    <tr>\n",
       "      <td>count</td>\n",
       "      <td>50367.000000</td>\n",
       "      <td>50367.000000</td>\n",
       "      <td>50367.000000</td>\n",
       "      <td>50367.000000</td>\n",
       "      <td>50367.000000</td>\n",
       "      <td>50367.000000</td>\n",
       "      <td>50367.000000</td>\n",
       "      <td>50367.000000</td>\n",
       "      <td>50367.000000</td>\n",
       "      <td>50367.000000</td>\n",
       "      <td>...</td>\n",
       "      <td>5.036700e+04</td>\n",
       "      <td>5.036700e+04</td>\n",
       "      <td>5.036700e+04</td>\n",
       "      <td>5.036700e+04</td>\n",
       "      <td>5.036700e+04</td>\n",
       "      <td>5.036700e+04</td>\n",
       "      <td>5.036700e+04</td>\n",
       "      <td>5.036700e+04</td>\n",
       "      <td>5.036700e+04</td>\n",
       "      <td>50367.000000</td>\n",
       "    </tr>\n",
       "    <tr>\n",
       "      <td>mean</td>\n",
       "      <td>1.003634</td>\n",
       "      <td>1.513159</td>\n",
       "      <td>45.825405</td>\n",
       "      <td>1.622899</td>\n",
       "      <td>0.741026</td>\n",
       "      <td>-35.006537</td>\n",
       "      <td>0.005633</td>\n",
       "      <td>0.081734</td>\n",
       "      <td>-0.006089</td>\n",
       "      <td>-0.017674</td>\n",
       "      <td>...</td>\n",
       "      <td>7.922392e+13</td>\n",
       "      <td>9.073951e+13</td>\n",
       "      <td>1.033558e+14</td>\n",
       "      <td>1.170615e+14</td>\n",
       "      <td>1.318268e+14</td>\n",
       "      <td>1.476049e+14</td>\n",
       "      <td>1.643355e+14</td>\n",
       "      <td>1.819484e+14</td>\n",
       "      <td>2.003668e+14</td>\n",
       "      <td>14.121845</td>\n",
       "    </tr>\n",
       "    <tr>\n",
       "      <td>std</td>\n",
       "      <td>0.341540</td>\n",
       "      <td>0.246795</td>\n",
       "      <td>21.981949</td>\n",
       "      <td>1.484527</td>\n",
       "      <td>0.121274</td>\n",
       "      <td>13.473685</td>\n",
       "      <td>0.354044</td>\n",
       "      <td>0.279287</td>\n",
       "      <td>0.022893</td>\n",
       "      <td>0.045034</td>\n",
       "      <td>...</td>\n",
       "      <td>4.614182e+12</td>\n",
       "      <td>6.428398e+12</td>\n",
       "      <td>8.682693e+12</td>\n",
       "      <td>1.143100e+13</td>\n",
       "      <td>1.472751e+13</td>\n",
       "      <td>1.862364e+13</td>\n",
       "      <td>2.316520e+13</td>\n",
       "      <td>2.838992e+13</td>\n",
       "      <td>3.432542e+13</td>\n",
       "      <td>3.592337</td>\n",
       "    </tr>\n",
       "    <tr>\n",
       "      <td>min</td>\n",
       "      <td>0.121186</td>\n",
       "      <td>0.885796</td>\n",
       "      <td>30.000334</td>\n",
       "      <td>0.001000</td>\n",
       "      <td>0.307146</td>\n",
       "      <td>-89.474540</td>\n",
       "      <td>-1.520963</td>\n",
       "      <td>-1.094913</td>\n",
       "      <td>-0.118838</td>\n",
       "      <td>-0.221911</td>\n",
       "      <td>...</td>\n",
       "      <td>5.922087e+13</td>\n",
       "      <td>6.431431e+13</td>\n",
       "      <td>6.949504e+13</td>\n",
       "      <td>7.474914e+13</td>\n",
       "      <td>8.006441e+13</td>\n",
       "      <td>8.543025e+13</td>\n",
       "      <td>9.083756e+13</td>\n",
       "      <td>9.627860e+13</td>\n",
       "      <td>1.017469e+14</td>\n",
       "      <td>7.341849</td>\n",
       "    </tr>\n",
       "    <tr>\n",
       "      <td>25%</td>\n",
       "      <td>0.756212</td>\n",
       "      <td>1.330307</td>\n",
       "      <td>33.301315</td>\n",
       "      <td>0.331915</td>\n",
       "      <td>0.653450</td>\n",
       "      <td>-40.469399</td>\n",
       "      <td>-0.234811</td>\n",
       "      <td>-0.112779</td>\n",
       "      <td>-0.022108</td>\n",
       "      <td>-0.048158</td>\n",
       "      <td>...</td>\n",
       "      <td>7.626814e+13</td>\n",
       "      <td>8.658597e+13</td>\n",
       "      <td>9.768803e+13</td>\n",
       "      <td>1.095718e+14</td>\n",
       "      <td>1.221666e+14</td>\n",
       "      <td>1.353614e+14</td>\n",
       "      <td>1.491730e+14</td>\n",
       "      <td>1.634350e+14</td>\n",
       "      <td>1.780934e+14</td>\n",
       "      <td>11.789441</td>\n",
       "    </tr>\n",
       "    <tr>\n",
       "      <td>50%</td>\n",
       "      <td>1.030975</td>\n",
       "      <td>1.481460</td>\n",
       "      <td>38.329527</td>\n",
       "      <td>1.381805</td>\n",
       "      <td>0.739079</td>\n",
       "      <td>-35.378936</td>\n",
       "      <td>0.013435</td>\n",
       "      <td>0.080413</td>\n",
       "      <td>-0.005945</td>\n",
       "      <td>-0.015147</td>\n",
       "      <td>...</td>\n",
       "      <td>7.940572e+13</td>\n",
       "      <td>9.079353e+13</td>\n",
       "      <td>1.031757e+14</td>\n",
       "      <td>1.165402e+14</td>\n",
       "      <td>1.307914e+14</td>\n",
       "      <td>1.458892e+14</td>\n",
       "      <td>1.616968e+14</td>\n",
       "      <td>1.781891e+14</td>\n",
       "      <td>1.952179e+14</td>\n",
       "      <td>13.357328</td>\n",
       "    </tr>\n",
       "    <tr>\n",
       "      <td>75%</td>\n",
       "      <td>1.272663</td>\n",
       "      <td>1.653919</td>\n",
       "      <td>48.670007</td>\n",
       "      <td>2.385371</td>\n",
       "      <td>0.827413</td>\n",
       "      <td>-31.110191</td>\n",
       "      <td>0.250321</td>\n",
       "      <td>0.270311</td>\n",
       "      <td>0.010004</td>\n",
       "      <td>0.015366</td>\n",
       "      <td>...</td>\n",
       "      <td>8.216757e+13</td>\n",
       "      <td>9.472804e+13</td>\n",
       "      <td>1.085902e+14</td>\n",
       "      <td>1.237225e+14</td>\n",
       "      <td>1.401627e+14</td>\n",
       "      <td>1.577352e+14</td>\n",
       "      <td>1.764159e+14</td>\n",
       "      <td>1.961161e+14</td>\n",
       "      <td>2.167344e+14</td>\n",
       "      <td>15.462820</td>\n",
       "    </tr>\n",
       "    <tr>\n",
       "      <td>max</td>\n",
       "      <td>1.932763</td>\n",
       "      <td>2.973910</td>\n",
       "      <td>239.670281</td>\n",
       "      <td>9.986022</td>\n",
       "      <td>0.999985</td>\n",
       "      <td>89.586780</td>\n",
       "      <td>1.370638</td>\n",
       "      <td>1.370183</td>\n",
       "      <td>0.076458</td>\n",
       "      <td>0.105182</td>\n",
       "      <td>...</td>\n",
       "      <td>9.479394e+13</td>\n",
       "      <td>1.137406e+14</td>\n",
       "      <td>1.360211e+14</td>\n",
       "      <td>1.619878e+14</td>\n",
       "      <td>1.920212e+14</td>\n",
       "      <td>2.264663e+14</td>\n",
       "      <td>2.674855e+14</td>\n",
       "      <td>3.158451e+14</td>\n",
       "      <td>3.716760e+14</td>\n",
       "      <td>42.468716</td>\n",
       "    </tr>\n",
       "  </tbody>\n",
       "</table>\n",
       "<p>8 rows × 175 columns</p>\n",
       "</div>"
      ],
      "text/plain": [
       "                 k0         gamma             a             s             q  \\\n",
       "count  50367.000000  50367.000000  50367.000000  50367.000000  50367.000000   \n",
       "mean       1.003634      1.513159     45.825405      1.622899      0.741026   \n",
       "std        0.341540      0.246795     21.981949      1.484527      0.121274   \n",
       "min        0.121186      0.885796     30.000334      0.001000      0.307146   \n",
       "25%        0.756212      1.330307     33.301315      0.331915      0.653450   \n",
       "50%        1.030975      1.481460     38.329527      1.381805      0.739079   \n",
       "75%        1.272663      1.653919     48.670007      2.385371      0.827413   \n",
       "max        1.932763      2.973910    239.670281      9.986022      0.999985   \n",
       "\n",
       "              theta            xc            yc        shear1        shear2  \\\n",
       "count  50367.000000  50367.000000  50367.000000  50367.000000  50367.000000   \n",
       "mean     -35.006537      0.005633      0.081734     -0.006089     -0.017674   \n",
       "std       13.473685      0.354044      0.279287      0.022893      0.045034   \n",
       "min      -89.474540     -1.520963     -1.094913     -0.118838     -0.221911   \n",
       "25%      -40.469399     -0.234811     -0.112779     -0.022108     -0.048158   \n",
       "50%      -35.378936      0.013435      0.080413     -0.005945     -0.015147   \n",
       "75%      -31.110191      0.250321      0.270311      0.010004      0.015366   \n",
       "max       89.586780      1.370638      1.370183      0.076458      0.105182   \n",
       "\n",
       "       ...  m_encl_0127.01  m_encl_0144.17  m_encl_0163.64  m_encl_0185.75  \\\n",
       "count  ...    5.036700e+04    5.036700e+04    5.036700e+04    5.036700e+04   \n",
       "mean   ...    7.922392e+13    9.073951e+13    1.033558e+14    1.170615e+14   \n",
       "std    ...    4.614182e+12    6.428398e+12    8.682693e+12    1.143100e+13   \n",
       "min    ...    5.922087e+13    6.431431e+13    6.949504e+13    7.474914e+13   \n",
       "25%    ...    7.626814e+13    8.658597e+13    9.768803e+13    1.095718e+14   \n",
       "50%    ...    7.940572e+13    9.079353e+13    1.031757e+14    1.165402e+14   \n",
       "75%    ...    8.216757e+13    9.472804e+13    1.085902e+14    1.237225e+14   \n",
       "max    ...    9.479394e+13    1.137406e+14    1.360211e+14    1.619878e+14   \n",
       "\n",
       "       m_encl_0210.84  m_encl_0239.32  m_encl_0271.65  m_encl_0308.35  \\\n",
       "count    5.036700e+04    5.036700e+04    5.036700e+04    5.036700e+04   \n",
       "mean     1.318268e+14    1.476049e+14    1.643355e+14    1.819484e+14   \n",
       "std      1.472751e+13    1.862364e+13    2.316520e+13    2.838992e+13   \n",
       "min      8.006441e+13    8.543025e+13    9.083756e+13    9.627860e+13   \n",
       "25%      1.221666e+14    1.353614e+14    1.491730e+14    1.634350e+14   \n",
       "50%      1.307914e+14    1.458892e+14    1.616968e+14    1.781891e+14   \n",
       "75%      1.401627e+14    1.577352e+14    1.764159e+14    1.961161e+14   \n",
       "max      1.920212e+14    2.264663e+14    2.674855e+14    3.158451e+14   \n",
       "\n",
       "       m_encl_0350.00        r_1pct  \n",
       "count    5.036700e+04  50367.000000  \n",
       "mean     2.003668e+14     14.121845  \n",
       "std      3.432542e+13      3.592337  \n",
       "min      1.017469e+14      7.341849  \n",
       "25%      1.780934e+14     11.789441  \n",
       "50%      1.952179e+14     13.357328  \n",
       "75%      2.167344e+14     15.462820  \n",
       "max      3.716760e+14     42.468716  \n",
       "\n",
       "[8 rows x 175 columns]"
      ]
     },
     "execution_count": 18,
     "metadata": {},
     "output_type": "execute_result"
    }
   ],
   "source": [
    "# Multiply the kappas in the samples2 array by Sigma_crit, to yield surface density in M_sun kpc^-2\n",
    "samples2[:, p: p + nr * 3] = samples2[:, p: p + nr * 3] * sigma_crit\n",
    "df = pd.DataFrame(samples2, columns = chain_columns + col_names)\n",
    "df.describe()"
   ]
  },
  {
   "cell_type": "code",
   "execution_count": 19,
   "metadata": {},
   "outputs": [
    {
     "name": "stdout",
     "output_type": "stream",
     "text": [
      "Results saved to bands file, and dataframe saved to .csv file with label  MS2137.cc.v13\n",
      "Path:  /Users/kevin/CloudStation/KEVIN/UCI/Research/gravlensing/MS2137/chains_MS2137.cc.v13\n"
     ]
    }
   ],
   "source": [
    "np.savez(label + '.all.bands4', radii_kpc, sm, sp, med)\n",
    "np.savez(label + '.dmo.bands4', radii_kpc, sm_dmo, sp_dmo, med_dmo)\n",
    "np.savez(label + '.bary.bands4', radii_kpc, sm_bary, sp_bary, med_bary)\n",
    "np.savez(label + '.mencl.bands4', radii_kpc, sm_mencl, sp_mencl, med_mencl)\n",
    "np.savez(label + '.r1pct.bands4', radii_kpc, sm_r1, sp_r1, med_r1)\n",
    "with open(label + '.column_names', 'w') as colfile:\n",
    "    colfile.writelines('\\n'.join(list(df.columns.values)))\n",
    "df.to_csv(label + '.csv')\n",
    "print('Results saved to bands file, and dataframe saved to .csv file with label ', label)\n",
    "print('Path: ', path)"
   ]
  },
  {
   "cell_type": "code",
   "execution_count": 20,
   "metadata": {},
   "outputs": [],
   "source": [
    "# Use Notebook \"Kappa band plotter v4\" to plot the results."
   ]
  },
  {
   "cell_type": "code",
   "execution_count": 21,
   "metadata": {},
   "outputs": [
    {
     "ename": "SystemExit",
     "evalue": "",
     "output_type": "error",
     "traceback": [
      "An exception has occurred, use %tb to see the full traceback.\n",
      "\u001b[0;31mSystemExit\u001b[0m\n"
     ]
    },
    {
     "name": "stderr",
     "output_type": "stream",
     "text": [
      "/Users/kevin/anaconda/envs/py36/lib/python3.6/site-packages/IPython/core/interactiveshell.py:3334: UserWarning: To exit: use 'exit', 'quit', or Ctrl-D.\n",
      "  warn(\"To exit: use 'exit', 'quit', or Ctrl-D.\", stacklevel=1)\n"
     ]
    }
   ],
   "source": [
    "sys.exit()"
   ]
  },
  {
   "cell_type": "code",
   "execution_count": 22,
   "metadata": {},
   "outputs": [
    {
     "data": {
      "text/plain": [
       "0"
      ]
     },
     "execution_count": 22,
     "metadata": {},
     "output_type": "execute_result"
    }
   ],
   "source": [
    "# copy to the 'kappas' folder\n",
    "os.chdir(path)\n",
    "os.system('cp ' + label + '*.bands4.npz  \"' + path + '/../../kappas/\"')\n",
    "os.system('cp ' + label + '.column_names  \"' + path + '/../../kappas/\"')\n",
    "os.system('cp ' + label + '.csv  \"' + path + '/../../kappas/\"')"
   ]
  },
  {
   "cell_type": "code",
   "execution_count": null,
   "metadata": {},
   "outputs": [],
   "source": []
  }
 ],
 "metadata": {
  "anaconda-cloud": {},
  "kernelspec": {
   "display_name": "Python [conda env:py36]",
   "language": "python",
   "name": "conda-env-py36-py"
  },
  "language_info": {
   "codemirror_mode": {
    "name": "ipython",
    "version": 3
   },
   "file_extension": ".py",
   "mimetype": "text/x-python",
   "name": "python",
   "nbconvert_exporter": "python",
   "pygments_lexer": "ipython3",
   "version": "3.6.7"
  }
 },
 "nbformat": 4,
 "nbformat_minor": 1
}
